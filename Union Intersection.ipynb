{
  "nbformat": 4,
  "nbformat_minor": 0,
  "metadata": {
    "colab": {
      "provenance": [],
      "authorship_tag": "ABX9TyPxIGUUDKInfE0URaFJyrVq",
      "include_colab_link": true
    },
    "kernelspec": {
      "name": "python3",
      "display_name": "Python 3"
    },
    "language_info": {
      "name": "python"
    }
  },
  "cells": [
    {
      "cell_type": "markdown",
      "metadata": {
        "id": "view-in-github",
        "colab_type": "text"
      },
      "source": [
        "<a href=\"https://colab.research.google.com/github/imrazack-cisco/bits/blob/main/Union%20Intersection.ipynb\" target=\"_parent\"><img src=\"https://colab.research.google.com/assets/colab-badge.svg\" alt=\"Open In Colab\"/></a>"
      ]
    },
    {
      "cell_type": "code",
      "execution_count": 34,
      "metadata": {
        "colab": {
          "base_uri": "https://localhost:8080/"
        },
        "id": "sPH1ZzqVzfwh",
        "outputId": "6db93c97-3f8f-42c8-f97b-1c67d934d244"
      },
      "outputs": [
        {
          "output_type": "stream",
          "name": "stdout",
          "text": [
            "P(A ∩ B) = 0.30\n",
            "P(A ∪ B) = 0.80\n",
            "P(not A ∪ B) = 0.20\n"
          ]
        }
      ],
      "source": [
        "# Sample dataset: 10 employees (1 = prefers, 0 = does not prefer)\n",
        "# Each tuple represents (prefers coffee, prefers skimmed milk powder)\n",
        "data = [\n",
        "    (1, 1),  # Employee 1 prefers both coffee and skimmed milk powder\n",
        "    (1, 0),  # Employee 2 prefers coffee but not skimmed milk powder\n",
        "    (0, 1),  # Employee 3 prefers skimmed milk powder but not coffee\n",
        "    (1, 1),  # Employee 4 prefers both\n",
        "    (0, 0),  # Employee 5 prefers neither\n",
        "    (1, 1),  # Employee 6 prefers both\n",
        "    (0, 1),  # Employee 7 prefers only skimmed milk powder\n",
        "    (1, 0),  # Employee 8 prefers only coffee\n",
        "    (0, 1),  # Employee 9 prefers only skimmed milk powder\n",
        "    (0, 0)   # Employee 10 prefers neither\n",
        "]\n",
        "\n",
        "# Count occurrences of A (coffee) and B (skimmed milk powder)\n",
        "total = len(data)\n",
        "A = sum([1 for person in data if person[0] == 1])        # Prefers coffee\n",
        "B = sum([1 for person in data if person[1] == 1])        # Prefers skimmed milk powder\n",
        "A_and_B = sum([1 for person in data if person[0] == 1 and person[1] == 1])  # Prefers both\n",
        "\n",
        "# Calculate probabilities\n",
        "P_A = A / total                      # Probability of coffee\n",
        "P_B = B / total                      # Probability of skimmed milk powder\n",
        "P_A_and_B = A_and_B / total          # Probability of both (A ∩ B)\n",
        "P_A_or_B = P_A + P_B - P_A_and_B     # Probability of either (A ∪ B)\n",
        "P_not_A_or_B = 1 - P_A_or_B          # Probability of neither (not A ∪ B)\n",
        "\n",
        "# Print results\n",
        "print(f\"P(A ∩ B) = {P_A_and_B:.2f}\")\n",
        "print(f\"P(A ∪ B) = {P_A_or_B:.2f}\")\n",
        "print(f\"P(not A ∪ B) = {P_not_A_or_B:.2f}\")\n"
      ]
    }
  ]
}