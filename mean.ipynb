{
  "nbformat": 4,
  "nbformat_minor": 0,
  "metadata": {
    "colab": {
      "provenance": [],
      "authorship_tag": "ABX9TyONyoalB2EXnd9t4leWeTzB",
      "include_colab_link": true
    },
    "kernelspec": {
      "name": "python3",
      "display_name": "Python 3"
    },
    "language_info": {
      "name": "python"
    }
  },
  "cells": [
    {
      "cell_type": "markdown",
      "metadata": {
        "id": "view-in-github",
        "colab_type": "text"
      },
      "source": [
        "<a href=\"https://colab.research.google.com/github/imrazack-cisco/bits/blob/main/mean.ipynb\" target=\"_parent\"><img src=\"https://colab.research.google.com/assets/colab-badge.svg\" alt=\"Open In Colab\"/></a>"
      ]
    },
    {
      "cell_type": "code",
      "execution_count": 16,
      "metadata": {
        "colab": {
          "base_uri": "https://localhost:8080/"
        },
        "id": "sPH1ZzqVzfwh",
        "outputId": "65ae8acf-796a-4836-9645-4257659530c7"
      },
      "outputs": [
        {
          "output_type": "stream",
          "name": "stdout",
          "text": [
            "Mean of the current 14 values: 16.5\n",
            "The 15th value needed to make the mean 15 is: -6\n"
          ]
        }
      ],
      "source": [
        "# Function to calculate mean\n",
        "def calculate_mean(values):\n",
        "    return sum(values) / len(values)\n",
        "\n",
        "# List of 14 values (you can replace this with your actual data)\n",
        "values = [14, 14, 14, 14, 14, 14, 14, 14, 14, 14, 14, 14, 31, 32]\n",
        "\n",
        "# Step 1: Calculate the mean of the current 14 values\n",
        "mean_before = calculate_mean(values)\n",
        "print(f\"Mean of the current 14 values: {mean_before}\")\n",
        "\n",
        "# Step 2: Define the target mean and number of values\n",
        "target_mean = 15\n",
        "total_values = 15\n",
        "\n",
        "# Step 3: Find the 15th value needed to achieve the target mean\n",
        "# Formula: (total_mean * total_values) = sum of current values + 15th value\n",
        "required_sum = target_mean * total_values\n",
        "current_sum = sum(values)\n",
        "value_15 = required_sum - current_sum\n",
        "\n",
        "print(f\"The 15th value needed to make the mean {target_mean} is: {value_15}\")\n"
      ]
    }
  ]
}