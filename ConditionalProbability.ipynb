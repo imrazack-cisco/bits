{
  "nbformat": 4,
  "nbformat_minor": 0,
  "metadata": {
    "colab": {
      "provenance": [],
      "authorship_tag": "ABX9TyNoLgaPtqkfDWVI6XxMLxzj",
      "include_colab_link": true
    },
    "kernelspec": {
      "name": "python3",
      "display_name": "Python 3"
    },
    "language_info": {
      "name": "python"
    }
  },
  "cells": [
    {
      "cell_type": "markdown",
      "metadata": {
        "id": "view-in-github",
        "colab_type": "text"
      },
      "source": [
        "<a href=\"https://colab.research.google.com/github/imrazack-cisco/bits/blob/main/ConditionalProbability.ipynb\" target=\"_parent\"><img src=\"https://colab.research.google.com/assets/colab-badge.svg\" alt=\"Open In Colab\"/></a>"
      ]
    },
    {
      "cell_type": "code",
      "execution_count": 28,
      "metadata": {
        "colab": {
          "base_uri": "https://localhost:8080/"
        },
        "id": "sPH1ZzqVzfwh",
        "outputId": "f2049e26-c17a-4814-cfb8-7a5880459085"
      },
      "outputs": [
        {
          "output_type": "stream",
          "name": "stdout",
          "text": [
            "The approximate value of P(T) + P(M) + P(NS) + P(PR) + P(RT) is: 1.1667017008480425\n"
          ]
        }
      ],
      "source": [
        "import numpy as np\n",
        "\n",
        "# Create the event matrix\n",
        "events = np.array([\n",
        "    [15, 12, 8],\n",
        "    [11, 17, 19],\n",
        "    [21, 32, 27],\n",
        "    [18, 13, 12]\n",
        "])\n",
        "\n",
        "# Calculate the total number of events\n",
        "total_events = np.sum(events)\n",
        "\n",
        "# Calculate probabilities\n",
        "P_T = np.sum(events[:, 2]) / total_events\n",
        "P_M = np.sum(events[0, :]) / total_events\n",
        "P_N = np.sum(events[1, :]) / total_events\n",
        "P_S = np.sum(events[:, 1]) / total_events\n",
        "P_R = np.sum(events[:, 0]) / total_events\n",
        "\n",
        "P_NS = events[1, 1] / np.sum(events[:, 1])\n",
        "P_PR = events[2, 0] / np.sum(events[:, 0])\n",
        "P_RT = events[0, 2] / np.sum(events[:, 2])\n",
        "\n",
        "# Calculate the expression , conditional probability of any value given another value , example R given T. It's the probability of R occurring, given that T has already occurred.\n",
        "result = P_T + P_M + P_NS + P_PR + P_RT\n",
        "\n",
        "print(\"The approximate value of P(T) + P(M) + P(NS) + P(PR) + P(RT) is:\", result)"
      ]
    }
  ]
}