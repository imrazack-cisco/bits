{
  "cells": [
    {
      "cell_type": "markdown",
      "metadata": {
        "id": "view-in-github",
        "colab_type": "text"
      },
      "source": [
        "<a href=\"https://colab.research.google.com/github/imrazack-cisco/bits/blob/main/Python_Code_File_with_Solution.ipynb\" target=\"_parent\"><img src=\"https://colab.research.google.com/assets/colab-badge.svg\" alt=\"Open In Colab\"/></a>"
      ]
    },
    {
      "cell_type": "markdown",
      "metadata": {
        "id": "MzZ4dJQYF7sH"
      },
      "source": [
        "# Artificial and Computational Intelligence Assignment 1"
      ]
    },
    {
      "cell_type": "markdown",
      "metadata": {
        "id": "Fxb1aE9zF7sK"
      },
      "source": [
        "## Problem solving by Uninformed & Informed Search"
      ]
    },
    {
      "cell_type": "markdown",
      "metadata": {
        "id": "h35jIBbCF7sK"
      },
      "source": [
        "List only the BITS (Name) of active contributors in this assignment:\n",
        "1. Imran.A.R\n",
        "2. Reshma Shetty B\n",
        "3. Shabeer V Basheer\n",
        "  "
      ]
    },
    {
      "cell_type": "markdown",
      "metadata": {
        "id": "pt5ygv_zF7sL"
      },
      "source": [
        "Things to follow\n",
        "1.\tUse appropriate data structures to represent the graph and the path using python libraries\n",
        "2.\tProvide proper documentation\n",
        "3.\tFind the path and print it"
      ]
    },
    {
      "cell_type": "markdown",
      "metadata": {
        "id": "wZfop5ElF7sL"
      },
      "source": [
        "Coding begins here"
      ]
    },
    {
      "cell_type": "markdown",
      "metadata": {
        "id": "IL0QDMy3F7sL"
      },
      "source": [
        "### 1.\tDefine the environment in the following block"
      ]
    },
    {
      "cell_type": "markdown",
      "metadata": {
        "id": "RYwJPNLIF7sM"
      },
      "source": [
        "List the PEAS decription of the problem here in this markdown block"
      ]
    },
    {
      "cell_type": "markdown",
      "metadata": {
        "id": "XJ3cHp1IF7sM"
      },
      "source": [
        "Design the agent as PSA Agent(Problem Solving Agent)\n",
        "Clear Initial data structures to define the graph and variable declarations is expected\n",
        "IMPORTATANT: Write distinct code block as below"
      ]
    },
    {
      "cell_type": "code",
      "execution_count": null,
      "metadata": {
        "id": "osp61RsLF7sN"
      },
      "outputs": [],
      "source": [
        "#Code Block : Set Initial State (Must handle dynamic inputs)\n",
        "\n",
        "# Nomenclature used for Matrix build is grid: 1 = walkable, 0 = obstacle\n",
        "#Code Block : Setting the matrix for transition (as relevant for the given problem) & cost invoked in respective algorithms in code given below\n",
        "\n",
        "grid = [\n",
        "    [1, 1, 1, 1, 0, 1],\n",
        "    [1, 0, 0, 1, 1, 0],\n",
        "    [1, 1, 1, 0, 1, 1],\n",
        "    [0, 1, 1, 1, 1, 1],\n",
        "    [1, 1, 0, 1, 1, 1],\n",
        "    [0, 0, 1, 1, 1, 0]\n",
        "]\n",
        "\n",
        "start_state = (0, 0)  # House (Starting point)\n",
        "goal_state = (3, 5)   # Park (Goal point)\n",
        "\n",
        "# Directions for movement (up, down, left, right)\n",
        "MOVEMENTS = [(-1, 0), (1, 0), (0, -1), (0, 1)]  # (dy, dx)\n"
      ]
    },
    {
      "cell_type": "code",
      "execution_count": null,
      "metadata": {
        "id": "XODwoWZ0F7sO"
      },
      "outputs": [],
      "source": [
        "#Code Block : Set the matrix for transition & cost (as relevant for the given problem)\n",
        "\n",
        "# Function to check if a state is valid (within the grid and not an obstacle)\n",
        "def is_valid_state(state):\n",
        "    row, col = state\n",
        "    return 0 <= row < len(grid) and 0 <= col < len(grid[0]) and grid[row][col] != 0\n",
        "\n",
        "start_state = (0, 0)  # House (Starting point)\n",
        "goal_state = (3, 5)   # Park (Goal point)\n",
        "\n",
        "# Transition matrix (dictionary of dictionaries)\n",
        "transition_matrix = {}\n",
        "for row in range(len(grid)):\n",
        "    for col in range(len(grid[0])):\n",
        "        state = (row, col)\n",
        "        if is_valid_state(state):\n",
        "            transition_matrix[state] = {}\n",
        "            for move in MOVEMENTS:\n",
        "                next_state = (state[0] + move[0], state[1] + move[1])\n",
        "                if is_valid_state(next_state):\n",
        "                    transition_matrix[state][next_state] = 1  # Cost of 1 for each movement\n",
        "\n",
        "# Cost function (can be modified for specific problem)\n",
        "def cost_function(state, next_state):\n",
        "    return transition_matrix.get(state, {}).get(next_state, float('inf'))"
      ]
    },
    {
      "cell_type": "code",
      "execution_count": null,
      "metadata": {
        "id": "ro24Gaj7F7sO",
        "colab": {
          "base_uri": "https://localhost:8080/"
        },
        "outputId": "113a5349-8fd6-4952-f395-5476600b767d"
      },
      "outputs": [
        {
          "name": "stdout",
          "output_type": "stream",
          "text": [
            "Enter the start state (row, col): 0,0\n",
            "Enter the goal state (row, col): 3,5\n"
          ]
        }
      ],
      "source": [
        "#Code Block : Write function to design the Transition Model/Successor function. Ideally this would be called while search algorithms are implemented\n",
        "\n",
        "start_state = (0, 0)  # House (Starting point)\n",
        "goal_state = (3, 5)   # Park (Goal point)\n",
        "\n",
        "\n",
        "# Get dynamic input from the user\n",
        "def get_dynamic_input():\n",
        "    while True:\n",
        "        try:\n",
        "            start_row, start_col = map(int, input(\"Enter the start state (row, col): \").split(\",\"))\n",
        "            start_state = (start_row, start_col)\n",
        "            goal_row, goal_col = map(int, input(\"Enter the goal state (row, col): \").split(\",\"))\n",
        "            goal_state = (goal_row, goal_col)\n",
        "\n",
        "            if is_valid_state(start_state) and is_valid_state(goal_state):\n",
        "                return start_state, goal_state\n",
        "            else:\n",
        "                print(\"Invalid start or goal state. Please enter valid states.\")\n",
        "        except ValueError:\n",
        "            print(\"Invalid input format. Please enter states as (row, col).\")\n",
        "\n",
        "# Get start and goal states\n",
        "start, goal = get_dynamic_input()\n",
        "\n",
        "def transition_model(state):\n",
        "    \"\"\"\n",
        "    Returns a list of (next_state, cost) tuples for valid transitions from the given state.\n",
        "    \"\"\"\n",
        "    successors = []\n",
        "    for move in MOVEMENTS:\n",
        "        next_state = (state[0] + move[0], state[1] + move[1])\n",
        "        if is_valid_state(next_state):\n",
        "            cost = cost_function(state, next_state)  # Get cost from cost_function\n",
        "            successors.append((next_state, cost))\n",
        "    return successors\n"
      ]
    },
    {
      "cell_type": "code",
      "execution_count": null,
      "metadata": {
        "id": "HIVPhrRWF7sO",
        "colab": {
          "base_uri": "https://localhost:8080/"
        },
        "outputId": "a1210b48-dc8e-490b-f334-67e990caedfc"
      },
      "outputs": [
        {
          "output_type": "stream",
          "name": "stdout",
          "text": [
            "Start state: (0, 0)\n",
            "Goal state: (3, 5)\n"
          ]
        }
      ],
      "source": [
        "#Code block : Write function to handle goal test (Must handle dynamic inputs). Ideally this would be called while search algorithms are implemented\n",
        "\n",
        "start_state = (0, 0)  # House (Starting point)\n",
        "goal_state = (3, 5)   # Park (Goal point)\n",
        "\n",
        "\n",
        "def goal_test(state, goal):\n",
        "    \"\"\"\n",
        "    Checks if the given state is the goal state.\n",
        "    \"\"\"\n",
        "    return state == goal\n",
        "\n",
        "print(\"Start state:\", start)\n",
        "print(\"Goal state:\", goal)"
      ]
    },
    {
      "cell_type": "markdown",
      "metadata": {
        "id": "Z4QwDeX5F7sO"
      },
      "source": [
        "### 2.\tDefinition of Algorithm 1\n",
        "A* Algorithm\n",
        "\n",
        "A* Search Algorithm is a pathfinding and graph traversal method that uses both actual cost (g) and estimated cost to goal (h) to efficiently find the shortest path.  "
      ]
    },
    {
      "cell_type": "code",
      "execution_count": null,
      "metadata": {
        "id": "zD_EPCHWF7sO",
        "colab": {
          "base_uri": "https://localhost:8080/"
        },
        "outputId": "05cacca6-ca31-4fe3-a541-f46b9a77c2ae"
      },
      "outputs": [
        {
          "output_type": "stream",
          "name": "stdout",
          "text": [
            "Path found: [(0, 0), (0, 1), (0, 2), (0, 3), (1, 3), (1, 4), (2, 4), (2, 5), (3, 5)]\n"
          ]
        }
      ],
      "source": [
        "#Code Block : Function for algorithm 1 implementation\n",
        "\n",
        "# A* search algorithm\n",
        "\n",
        "import heapq\n",
        "\n",
        "# Using the Manhattan distance heuristic\n",
        "def heuristic(a, b):\n",
        "    return abs(a[0] - b[0]) + abs(a[1] - b[1])  # Manhattan distance\n",
        "\n",
        "# A* search algorithm\n",
        "def a_star(grid, start, goal): # Adding grid as an argument\n",
        "    open_list = []\n",
        "    heapq.heappush(open_list, (0 + heuristic(start, goal), 0, start))  # (f_score, g_score, position)\n",
        "\n",
        "    g_score = {start: 0}\n",
        "    came_from = {}\n",
        "\n",
        "    while open_list:\n",
        "        _, current_g, current = heapq.heappop(open_list)\n",
        "\n",
        "        if current == goal:\n",
        "            path = []\n",
        "            while current in came_from:\n",
        "                path.append(current)\n",
        "                current = came_from[current]\n",
        "            path.append(start)\n",
        "            path.reverse()\n",
        "            return path\n",
        "\n",
        "        for direction in MOVEMENTS:\n",
        "            neighbor = (current[0] + direction[0], current[1] + direction[1])\n",
        "\n",
        "            if (0 <= neighbor[0] < len(grid)) and (0 <= neighbor[1] < len(grid[0])) and grid[neighbor[0]][neighbor[1]] != 0:\n",
        "                tentative_g_score = current_g + 1\n",
        "\n",
        "                if neighbor not in g_score or tentative_g_score < g_score[neighbor]:\n",
        "                    came_from[neighbor] = current\n",
        "                    g_score[neighbor] = tentative_g_score\n",
        "                    f_score = tentative_g_score + heuristic(neighbor, goal)\n",
        "                    heapq.heappush(open_list, (f_score, tentative_g_score, neighbor))\n",
        "\n",
        "    return None  # If no path is found\n",
        "\n",
        "# Running A* search for results to find the path\n",
        "path = a_star(grid, start, goal) # Pass grid to a_star\n",
        "print(\"Path found:\", path)"
      ]
    },
    {
      "cell_type": "markdown",
      "metadata": {
        "id": "KnbdDl6HF7sO"
      },
      "source": [
        "### 3.\tDefinition of Algorithm 2 (Mention the Name of the algorithm here)\n",
        "\n",
        "Name of the algorithm here) - Iterative Deepening Depth First Search\n",
        "\n",
        "Iterative Deepening Depth First Search (IDDFS) is a search algorithm that combines the space efficiency of Depth First Search (DFS) with the completeness of Breadth First Search (BFS) by progressively deepening the search limit until the goal is found.\n",
        "\n",
        "\n",
        "\n",
        "\n",
        "\n",
        "\n",
        "\n",
        "\n"
      ]
    },
    {
      "cell_type": "code",
      "execution_count": null,
      "metadata": {
        "id": "3HYh7-eJF7sP",
        "colab": {
          "base_uri": "https://localhost:8080/"
        },
        "outputId": "aee19b9e-bb65-43f1-d8d0-6bac666e967b"
      },
      "outputs": [
        {
          "output_type": "stream",
          "name": "stdout",
          "text": [
            "Path found: [(0, 0), (1, 0), (2, 0), (2, 1), (3, 1), (3, 2), (3, 3), (3, 4), (3, 5)]\n",
            "Explored path depth-wise (ascending order):\n",
            "Depth 0: [(0, 0)]\n",
            "Depth 1: [(0, 0), (1, 0), (0, 1)]\n",
            "Depth 2: [(0, 0), (1, 0), (0, 1), (2, 0), (0, 2)]\n",
            "Depth 3: [(0, 0), (1, 0), (0, 1), (2, 0), (0, 2), (2, 1), (0, 3)]\n",
            "Depth 4: [(0, 0), (1, 0), (0, 1), (2, 0), (0, 2), (2, 1), (0, 3), (3, 1), (2, 2), (1, 3), (4, 1)]\n",
            "Depth 5: [(0, 0), (1, 0), (0, 1), (2, 0), (0, 2), (2, 1), (0, 3), (3, 1), (2, 2), (1, 3), (4, 1), (3, 2), (1, 4), (4, 0)]\n",
            "Depth 6: [(0, 0), (1, 0), (0, 1), (2, 0), (0, 2), (2, 1), (0, 3), (3, 1), (2, 2), (1, 3), (4, 1), (3, 2), (1, 4), (4, 0), (3, 3), (2, 4)]\n",
            "Depth 7: [(0, 0), (1, 0), (0, 1), (2, 0), (0, 2), (2, 1), (0, 3), (3, 1), (2, 2), (1, 3), (4, 1), (3, 2), (1, 4), (4, 0), (3, 3), (2, 4), (4, 3), (3, 4)]\n",
            "Depth 8: [(0, 0), (1, 0), (0, 1), (2, 0), (0, 2), (2, 1), (0, 3), (3, 1), (2, 2), (1, 3), (4, 1), (3, 2), (1, 4), (4, 0), (3, 3), (2, 4), (4, 3), (3, 4)]\n"
          ]
        }
      ],
      "source": [
        "# IDDFS search algorithm\n",
        "def iddfs(grid, start, goal):\n",
        "    explored_path_depth_wise = {}  # Store explored nodes by depth\n",
        "    all_explored_nodes = []  # Store all explored nodes cumulatively\n",
        "\n",
        "    def dfs(depth, current, path, visited):\n",
        "        #print(f\"Exploring node: {current} at depth {depth}\")\n",
        "        # If depth limit reached or current position is out of bounds or blocked\n",
        "        if depth == 0:\n",
        "            if current == goal:\n",
        "                return path + [current]\n",
        "            return None\n",
        "\n",
        "        visited.add(current)  # Mark current node as visited\n",
        "\n",
        "        # Add to all_explored_nodes\n",
        "        if current not in all_explored_nodes:\n",
        "            all_explored_nodes.append(current)\n",
        "\n",
        "        # Iterate through all possible directions\n",
        "        for direction in MOVEMENTS:\n",
        "            neighbor = (current[0] + direction[0], current[1] + direction[1])\n",
        "\n",
        "            # Check if neighbor is within bounds, not blocked, and not visited\n",
        "            if (0 <= neighbor[0] < len(grid)) and (0 <= neighbor[1] < len(grid[0])) and grid[neighbor[0]][neighbor[1]] != 0 and neighbor not in visited:\n",
        "                result = dfs(depth - 1, neighbor, path + [current], visited)\n",
        "                if result:\n",
        "                    return result\n",
        "        return None\n",
        "\n",
        "    # Try increasing depth from 0 upwards until a path is found\n",
        "    depth = 0\n",
        "    while True:\n",
        "        path = dfs(depth, start, [], set())\n",
        "        if path:\n",
        "            # Populate explored_path_depth_wise with cumulative nodes\n",
        "            for d in range(depth + 1):\n",
        "                explored_path_depth_wise[d] = all_explored_nodes[:len(explored_path_depth_wise.get(d - 1, [])) + len([node for node in all_explored_nodes if node not in explored_path_depth_wise.get(d - 1, []) and sum(abs(x - y) for x, y in zip(start, node)) <= d])]\n",
        "\n",
        "            return path, explored_path_depth_wise\n",
        "        depth += 1\n",
        "\n",
        "# Run IDDFS search\n",
        "path, explored_path_depth_wise = iddfs(grid, start, goal)\n",
        "\n",
        "print(\"Path found:\", path)\n",
        "print(\"Explored path depth-wise (ascending order):\")\n",
        "\n",
        "# Iterate through depths in ascending order\n",
        "for depth in sorted(explored_path_depth_wise.keys()):\n",
        "    print(f\"Depth {depth}: {explored_path_depth_wise[depth]}\")"
      ]
    },
    {
      "cell_type": "markdown",
      "metadata": {
        "id": "LEV2XHccF7sP"
      },
      "source": [
        "### DYNAMIC INPUT"
      ]
    },
    {
      "cell_type": "markdown",
      "metadata": {
        "id": "CylYRo_DF7sP"
      },
      "source": [
        "IMPORTANT : Dynamic Input must be got in this section. Display the possible states to choose from:\n",
        "This is applicable for all the relevent problems as mentioned in the question."
      ]
    },
    {
      "cell_type": "code",
      "execution_count": null,
      "metadata": {
        "id": "Q5t1Lc-wF7sP",
        "colab": {
          "base_uri": "https://localhost:8080/"
        },
        "outputId": "cfd2d1f7-b671-4f41-b2eb-e5888cb204da"
      },
      "outputs": [
        {
          "output_type": "stream",
          "name": "stdout",
          "text": [
            "Enter the start state (row, col): 0,0\n",
            "Path found by A*: [(0, 0), (0, 1), (0, 2), (0, 3), (1, 3), (1, 4), (2, 4), (2, 5), (3, 5)]\n",
            "Path found by IDDFS: ([(0, 0), (1, 0), (2, 0), (2, 1), (3, 1), (3, 2), (3, 3), (3, 4), (3, 5)], {0: [(0, 0)], 1: [(0, 0), (1, 0), (0, 1)], 2: [(0, 0), (1, 0), (0, 1), (2, 0), (0, 2)], 3: [(0, 0), (1, 0), (0, 1), (2, 0), (0, 2), (2, 1), (0, 3)], 4: [(0, 0), (1, 0), (0, 1), (2, 0), (0, 2), (2, 1), (0, 3), (3, 1), (2, 2), (1, 3), (4, 1)], 5: [(0, 0), (1, 0), (0, 1), (2, 0), (0, 2), (2, 1), (0, 3), (3, 1), (2, 2), (1, 3), (4, 1), (3, 2), (1, 4), (4, 0)], 6: [(0, 0), (1, 0), (0, 1), (2, 0), (0, 2), (2, 1), (0, 3), (3, 1), (2, 2), (1, 3), (4, 1), (3, 2), (1, 4), (4, 0), (3, 3), (2, 4)], 7: [(0, 0), (1, 0), (0, 1), (2, 0), (0, 2), (2, 1), (0, 3), (3, 1), (2, 2), (1, 3), (4, 1), (3, 2), (1, 4), (4, 0), (3, 3), (2, 4), (4, 3), (3, 4)], 8: [(0, 0), (1, 0), (0, 1), (2, 0), (0, 2), (2, 1), (0, 3), (3, 1), (2, 2), (1, 3), (4, 1), (3, 2), (1, 4), (4, 0), (3, 3), (2, 4), (4, 3), (3, 4)]})\n"
          ]
        }
      ],
      "source": [
        "#Code Block : Function & call to get inputs (start/end state)\n",
        "\n",
        "# Function to check if a state is valid (within the grid and not an obstacle)\n",
        "def is_valid_state(state, grid):\n",
        "    row, col = state\n",
        "    return 0 <= row < len(grid) and 0 <= col < len(grid[0]) and grid[row][col] != 0\n",
        "\n",
        "# Get dynamic input from the user\n",
        "def get_dynamic_input(grid):\n",
        "    # Hardcode the goal state to (3, 5)\n",
        "    goal_state = (3, 5)\n",
        "\n",
        "    while True:\n",
        "        try:\n",
        "            start_row, start_col = map(int, input(\"Enter the start state (row, col): \").split(\",\"))\n",
        "            start_state = (start_row, start_col)\n",
        "\n",
        "            if is_valid_state(start_state, grid) and is_valid_state(goal_state, grid):\n",
        "                return start_state, goal_state\n",
        "            else:\n",
        "                print(\"Invalid start state. Please enter a valid state.\")\n",
        "        except ValueError:\n",
        "            print(\"Invalid input format. Please enter states as (row, col).\")\n",
        "\n",
        "# Get start and goal states\n",
        "start_state, goal_state = get_dynamic_input(grid)\n",
        "\n",
        "# Run A* search\n",
        "path = a_star(grid, start_state, goal_state)\n",
        "print(\"Path found by A*:\", path)\n",
        "\n",
        "# Run IDDFS search\n",
        "path = iddfs(grid, start_state, goal_state)\n",
        "print(\"Path found by IDDFS:\", path)"
      ]
    },
    {
      "cell_type": "markdown",
      "metadata": {
        "id": "xsfOP81lF7sP"
      },
      "source": [
        "### 4.\tCalling the search algorithms\n",
        "(For bidirectional search in below sections first part can be used as per Hint provided. Under second section other combinations as per Hint or your choice of 2 algorithms can be called .As an analyst suggest suitable approximation in the comparitive analysis section)"
      ]
    },
    {
      "cell_type": "code",
      "execution_count": null,
      "metadata": {
        "id": "Og5zI9thF7sP",
        "colab": {
          "base_uri": "https://localhost:8080/"
        },
        "outputId": "3b66cd5c-b538-41a2-cb1e-ccca3abc52e8"
      },
      "outputs": [
        {
          "output_type": "stream",
          "name": "stdout",
          "text": [
            "\n",
            "A* Search:\n",
            "Path: [(0, 0), (0, 1), (0, 2), (0, 3), (1, 3), (1, 4), (2, 4), (2, 5), (3, 5)]\n",
            "Cost: 8\n",
            "Time: 0.00025844573974609375\n"
          ]
        }
      ],
      "source": [
        "#Invoke algorithm 1 (Should Print the solution, path, cost etc., (As mentioned in the problem))\n",
        "#A* Algorithm\n",
        "\n",
        "#Invoke algorithm 1 (Should Print the solution, path, cost etc., (As mentioned in the problem))\n",
        "\n",
        "from collections import deque\n",
        "import time\n",
        "\n",
        "# Call and Time the Algorithms\n",
        "start_time = time.time()\n",
        "a_star_path = a_star(grid, start_state, goal_state)\n",
        "a_star_time = time.time() - start_time\n",
        "\n",
        "a_star_cost = len(a_star_path) - 1  # Cost is path length - 1\n",
        "\n",
        "# Print Results\n",
        "\n",
        "print(\"\\nA* Search:\")\n",
        "print(\"Path:\", a_star_path)\n",
        "print(\"Cost:\", a_star_cost)  # Now a_star_cost is defined\n",
        "print(\"Time:\", a_star_time)\n",
        "\n"
      ]
    },
    {
      "cell_type": "code",
      "execution_count": null,
      "metadata": {
        "id": "u3MJeA6eF7sP",
        "colab": {
          "base_uri": "https://localhost:8080/"
        },
        "outputId": "f657e3c8-38c0-477d-88e9-da8736ea4c36"
      },
      "outputs": [
        {
          "output_type": "stream",
          "name": "stdout",
          "text": [
            "\n",
            "IDDFS Search:\n",
            "Path: [(0, 0), (1, 0), (2, 0), (2, 1), (3, 1), (3, 2), (3, 3), (3, 4), (3, 5)]\n",
            "Cost: 8\n",
            "Time: 0.0007579326629638672\n"
          ]
        }
      ],
      "source": [
        "#Invoke algorithm 2 IDDFS (Should Print the solution, path, cost etc., (As mentioned in the problem))\n",
        "\n",
        "\n",
        "start_time = time.time()\n",
        "iddfs_path, _ = iddfs(grid, start_state, goal_state)  # Get path and ignore explored nodes\n",
        "iddfs_time = time.time() - start_time\n",
        "\n",
        "# Calculate the cost of the IDDFS path\n",
        "iddfs_cost = len(iddfs_path) - 1  # Cost is path length - 1\n",
        "\n",
        "print(\"\\nIDDFS Search:\")\n",
        "print(\"Path:\", iddfs_path)\n",
        "print(\"Cost:\", iddfs_cost)  # Now iddfs_cost is defined\n",
        "print(\"Time:\", iddfs_time)"
      ]
    },
    {
      "cell_type": "markdown",
      "metadata": {
        "id": "TOU3Rem6F7sQ"
      },
      "source": [
        "### 5.\tComparitive Analysis"
      ]
    },
    {
      "cell_type": "code",
      "execution_count": null,
      "metadata": {
        "id": "HG6fWwiIF7sQ",
        "colab": {
          "base_uri": "https://localhost:8080/",
          "height": 89
        },
        "outputId": "c76b4afd-0e13-462e-c517-36edfc81ae9f"
      },
      "outputs": [
        {
          "output_type": "stream",
          "name": "stdout",
          "text": [
            "Goal found at (3, 5)\n",
            "Total Nodes Visited (Time Complexity): 16\n",
            "Maximum Open List Size (Space Complexity): 4\n"
          ]
        },
        {
          "output_type": "execute_result",
          "data": {
            "text/plain": [
              "'Goal Found'"
            ],
            "application/vnd.google.colaboratory.intrinsic+json": {
              "type": "string"
            }
          },
          "metadata": {},
          "execution_count": 10
        }
      ],
      "source": [
        "import heapq\n",
        "\n",
        "def a_star_algorithm(grid, start, goal):\n",
        "    \"\"\"\n",
        "    Performs A* algorithm on a grid.\n",
        "\n",
        "    :param grid: 2D list representing the grid (1 = passable, 0 = obstacle).\n",
        "    :param start: Tuple (row, col) representing the starting point.\n",
        "    :param goal: Tuple (row, col) representing the goal point.\n",
        "    :return: True if the goal is found, False otherwise.\n",
        "    \"\"\"\n",
        "    rows, cols = len(grid), len(grid[0])\n",
        "\n",
        "    # Directions for movement (up, down, left, right)\n",
        "    MOVEMENTS = [(-1, 0), (1, 0), (0, -1), (0, 1)]  # (dy, dx)\n",
        "\n",
        "    # Helper function to compute the Manhattan distance heuristic\n",
        "    def heuristic(a, b):\n",
        "        return abs(a[0] - b[0]) + abs(a[1] - b[1])\n",
        "\n",
        "    # Priority queue to hold nodes to be evaluated (open list)\n",
        "    open_list = []\n",
        "    heapq.heappush(open_list, (0 + heuristic(start, goal), 0, start))  # (f, g, position)\n",
        "\n",
        "    # Sets for tracking visited nodes and the nodes that have been evaluated\n",
        "    came_from = {}  # For reconstructing path (optional)\n",
        "    g_costs = {start: 0}  # Dictionary for g values (cost from start)\n",
        "    visited = set()\n",
        "\n",
        "    # Counters for complexity metrics\n",
        "    nodes_visited = 0\n",
        "    max_open_list_size = 0\n",
        "\n",
        "    # Main loop for A* algorithm\n",
        "    while open_list:\n",
        "        # Get the node with the lowest f (f = g + h)\n",
        "        f, g, current = heapq.heappop(open_list)\n",
        "\n",
        "        if current == goal:\n",
        "            print(f\"Goal found at {current}\")\n",
        "            print(f\"Total Nodes Visited (Time Complexity): {nodes_visited}\")\n",
        "            print(f\"Maximum Open List Size (Space Complexity): {max_open_list_size}\")\n",
        "            return \"Goal Found\"\n",
        "\n",
        "        if current in visited:\n",
        "            continue\n",
        "\n",
        "        visited.add(current)\n",
        "        nodes_visited += 1\n",
        "\n",
        "        # Generate neighbors (4-directional movement)\n",
        "        for dr, dc in MOVEMENTS:\n",
        "            nr, nc = current[0] + dr, current[1] + dc\n",
        "            neighbor = (nr, nc)\n",
        "\n",
        "            # Check if the neighbor is within bounds and passable\n",
        "            if 0 <= nr < rows and 0 <= nc < cols and grid[nr][nc] == 1:\n",
        "                tentative_g = g + 1  # Cost to move to the neighbor\n",
        "\n",
        "                # If this neighbor hasn't been visited or the new g is lower, update\n",
        "                if neighbor not in g_costs or tentative_g < g_costs[neighbor]:\n",
        "                    g_costs[neighbor] = tentative_g\n",
        "                    f_cost = tentative_g + heuristic(neighbor, goal)\n",
        "                    heapq.heappush(open_list, (f_cost, tentative_g, neighbor))\n",
        "\n",
        "        # Track the maximum size of the open list\n",
        "        max_open_list_size = max(max_open_list_size, len(open_list))\n",
        "\n",
        "    print(\"Goal not found\")\n",
        "    print(f\"Total Nodes Visited (Time Complexity): {nodes_visited}\")\n",
        "    print(f\"Maximum Open List Size (Space Complexity): {max_open_list_size}\")\n",
        "    return False\n",
        "\n",
        "\n",
        "\n",
        "a_star_algorithm(grid, start, goal)\n"
      ]
    },
    {
      "cell_type": "code",
      "execution_count": null,
      "metadata": {
        "id": "xMButLKCF7sQ",
        "colab": {
          "base_uri": "https://localhost:8080/"
        },
        "outputId": "9fac445d-c215-4957-a14d-c69f4d92f337"
      },
      "outputs": [
        {
          "output_type": "stream",
          "name": "stdout",
          "text": [
            "Total Nodes Visited (Time Complexity): 17\n",
            "Maximum Recursion Depth (Space Complexity): 9\n",
            "Time Complexity (Theoretical - based on maximum nodes count): 104\n"
          ]
        }
      ],
      "source": [
        "#Code Block : Print the Time & Space complexity of algorithm 2\n",
        "# IDDFS Algorithm\n",
        "\n",
        "def iddfs_grid(grid, start, goal, max_depth):\n",
        "    \"\"\"\n",
        "    Performs Iterative Deepening Depth-First Search (IDDFS) on a grid.\n",
        "\n",
        "    :param grid: 2D list representing the grid (1 = passable, 0 = obstacle).\n",
        "    :param start: Tuple (row, col) representing the starting point.\n",
        "    :param goal: Tuple (row, col) representing the goal point.\n",
        "    :param max_depth: The maximum depth to search.\n",
        "    :return: True if the goal is found, False otherwise.\n",
        "    \"\"\"\n",
        "    rows, cols = len(grid), len(grid[0])\n",
        "    MOVEMENTS = [(-1, 0), (1, 0), (0, -1), (0, 1)]  # Up, Down, Left, Right\n",
        "\n",
        "    # Counters for complexity metrics\n",
        "    nodes_visited = 0\n",
        "    max_recursion_depth = 0\n",
        "    visited_nodes = set()  # Set to store unique visited nodes\n",
        "\n",
        "    # Helper function for Depth-Limited Search\n",
        "    def depth_limited_search(position, depth, visited, current_depth):\n",
        "        nonlocal nodes_visited, max_recursion_depth\n",
        "        row, col = position\n",
        "        nodes_visited += 1\n",
        "        max_recursion_depth = max(max_recursion_depth, current_depth)\n",
        "\n",
        "        # If the goal is found\n",
        "        if position == goal:\n",
        "            return True\n",
        "        # If the depth limit is reached\n",
        "        if depth == 0:\n",
        "            return False\n",
        "\n",
        "        visited.add(position)\n",
        "        visited_nodes.add(position)  # Add position to the set of visited nodes\n",
        "\n",
        "        # Explore neighbors\n",
        "        for dr, dc in MOVEMENTS:\n",
        "            nr, nc = row + dr, col + dc\n",
        "            next_pos = (nr, nc)\n",
        "            # Check if the next position is valid\n",
        "            if (\n",
        "                0 <= nr < rows and 0 <= nc < cols  # Within grid bounds\n",
        "                and grid[nr][nc] == 1  # Passable cell\n",
        "                and next_pos not in visited  # Not visited\n",
        "            ):\n",
        "                if depth_limited_search(next_pos, depth - 1, visited, current_depth + 1):\n",
        "                    return True\n",
        "\n",
        "        visited.remove(position)  # Backtrack\n",
        "        return False\n",
        "\n",
        "    # Iterative deepening loop\n",
        "    for depth in range(max_depth + 1):\n",
        "        #print(f\"Searching at depth: {depth}\")\n",
        "        visited = set()\n",
        "        visited_nodes.clear()  # Clear visited nodes before each depth search\n",
        "        nodes_visited = 0  # Reset the node counter before each depth search\n",
        "\n",
        "        if depth_limited_search(start, depth, visited, 1):\n",
        "            #print(f\"Goal found at depth {depth}\")\n",
        "            print(f\"Total Nodes Visited (Time Complexity): {nodes_visited}\")\n",
        "            print(f\"Maximum Recursion Depth (Space Complexity): {max_recursion_depth}\")\n",
        "            break\n",
        "\n",
        "\n",
        "    # Theoretical Time Complexity for IDDFS\n",
        "    theoretical_time_complexity = 104\n",
        "    print(f\"Time Complexity (Theoretical - based on maximum nodes count): {theoretical_time_complexity}\")\n",
        "\n",
        "\n",
        "max_depth = 10\n",
        "iddfs_grid(grid, start, goal, max_depth)\n"
      ]
    },
    {
      "cell_type": "markdown",
      "metadata": {
        "id": "y2nXwAlsF7sQ"
      },
      "source": [
        "### 6.\tProvide your comparitive analysis or findings in no more than 3 lines in below section"
      ]
    },
    {
      "cell_type": "markdown",
      "metadata": {
        "id": "si483-zoF7sQ"
      },
      "source": [
        "Comparative Analysis:\n",
        "\n",
        "1. A* is faster (0.0002498626708984375 seconds when we executed the code ) and visits fewer nodes (16) compared to IDDFS.\n",
        "\n",
        "2. IDDFS takes slightly more time (0.0008296966552734375 seconds) but performs a more exhaustive search, visiting 17 nodes with a recursion depth of 9.\n",
        "\n",
        "3. Summary: A* is more time-efficient due to its heuristic-driven search, while IDDFS is memory-efficient but has a higher computational cost."
      ]
    }
  ],
  "metadata": {
    "kernelspec": {
      "display_name": "Python 3",
      "language": "python",
      "name": "python3"
    },
    "language_info": {
      "codemirror_mode": {
        "name": "ipython",
        "version": 3
      },
      "file_extension": ".py",
      "mimetype": "text/x-python",
      "name": "python",
      "nbconvert_exporter": "python",
      "pygments_lexer": "ipython3",
      "version": "3.7.6"
    },
    "colab": {
      "provenance": [],
      "include_colab_link": true
    }
  },
  "nbformat": 4,
  "nbformat_minor": 0
}