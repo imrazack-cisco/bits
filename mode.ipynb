{
  "nbformat": 4,
  "nbformat_minor": 0,
  "metadata": {
    "colab": {
      "provenance": [],
      "authorship_tag": "ABX9TyMJrC5vibzBiEECoh4dyGT/",
      "include_colab_link": true
    },
    "kernelspec": {
      "name": "python3",
      "display_name": "Python 3"
    },
    "language_info": {
      "name": "python"
    }
  },
  "cells": [
    {
      "cell_type": "markdown",
      "metadata": {
        "id": "view-in-github",
        "colab_type": "text"
      },
      "source": [
        "<a href=\"https://colab.research.google.com/github/imrazack-cisco/bits/blob/main/mode.ipynb\" target=\"_parent\"><img src=\"https://colab.research.google.com/assets/colab-badge.svg\" alt=\"Open In Colab\"/></a>"
      ]
    },
    {
      "cell_type": "code",
      "execution_count": null,
      "metadata": {
        "colab": {
          "base_uri": "https://localhost:8080/"
        },
        "id": "sPH1ZzqVzfwh",
        "outputId": "d2a6f9bc-d69d-41f9-c45c-d94d4a0af466"
      },
      "outputs": [
        {
          "output_type": "stream",
          "name": "stdout",
          "text": [
            "Mode(s): [3]\n",
            "The dataset is Unimodal.\n"
          ]
        }
      ],
      "source": [
        "from collections import Counter\n",
        "\n",
        "# Function to find the mode(s) and modality\n",
        "def find_mode_and_modality(data):\n",
        "    # Count the frequency of each value\n",
        "    frequency = Counter(data)\n",
        "\n",
        "    # Find the maximum frequency\n",
        "    max_frequency = max(frequency.values())\n",
        "\n",
        "    # Find the mode(s) (value(s) that have the maximum frequency)\n",
        "    modes = [k for k, v in frequency.items() if v == max_frequency]\n",
        "\n",
        "    # Determine the modality based on the number of modes\n",
        "    if len(modes) == 1:\n",
        "        modality = \"Unimodal\"\n",
        "    elif len(modes) == 2:\n",
        "        modality = \"Bimodal\"\n",
        "    elif len(modes) == 3:\n",
        "        modality = \"Trimodal\"\n",
        "    else:\n",
        "        modality = f\"Multimodal ({len(modes)} modes)\"\n",
        "\n",
        "    return modes, modality\n",
        "\n",
        "# Provided data\n",
        "data = [15, 15, 15, 3, 3, 3, 6, 6, 6, 3, 7]\n",
        "\n",
        "# Step 1: Find the mode(s) and modality\n",
        "modes, modality = find_mode_and_modality(data)\n",
        "\n",
        "# Step 2: Print the results\n",
        "print(f\"Mode(s): {modes}\")\n",
        "print(f\"The dataset is {modality}.\")\n"
      ]
    }
  ]
}