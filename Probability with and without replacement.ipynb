{
  "nbformat": 4,
  "nbformat_minor": 0,
  "metadata": {
    "colab": {
      "provenance": [],
      "authorship_tag": "ABX9TyNHZyhgecdmn16+oyUiydC8",
      "include_colab_link": true
    },
    "kernelspec": {
      "name": "python3",
      "display_name": "Python 3"
    },
    "language_info": {
      "name": "python"
    }
  },
  "cells": [
    {
      "cell_type": "markdown",
      "metadata": {
        "id": "view-in-github",
        "colab_type": "text"
      },
      "source": [
        "<a href=\"https://colab.research.google.com/github/imrazack-cisco/bits/blob/main/Probability%20with%20and%20without%20replacement.ipynb\" target=\"_parent\"><img src=\"https://colab.research.google.com/assets/colab-badge.svg\" alt=\"Open In Colab\"/></a>"
      ]
    },
    {
      "cell_type": "code",
      "execution_count": 7,
      "metadata": {
        "colab": {
          "base_uri": "https://localhost:8080/"
        },
        "id": "sPH1ZzqVzfwh",
        "outputId": "041894c1-30c3-46dd-9d16-2abf3164a1d0"
      },
      "outputs": [
        {
          "output_type": "stream",
          "name": "stdout",
          "text": [
            "Probability with replacement: 0.01493827160493827\n",
            "Probability without replacement: 0.01373283395755306\n",
            "Absolute difference: 0.0012054376473852116\n"
          ]
        }
      ],
      "source": [
        "import math\n",
        "\n",
        "def calculate_probability(total_items, defective_items, sample_size, with_replacement=False):\n",
        "\n",
        "    if with_replacement:\n",
        "        # Probability of drawing a defective item on one draw\n",
        "        p = defective_items / total_items\n",
        "\n",
        "        # Using binomial probability for with replacement case\n",
        "        probability = (p**sample_size)\n",
        "    else:\n",
        "        # Without replacement\n",
        "        probability = (math.comb(defective_items, sample_size) *\n",
        "                       math.comb(total_items - defective_items, sample_size - sample_size) /\n",
        "                       math.comb(total_items, sample_size))\n",
        "\n",
        "    return probability\n",
        "\n",
        "# Given data\n",
        "total_items = 90\n",
        "defective_items = 11\n",
        "sample_size = 2\n",
        "\n",
        "probability_with_replacement = calculate_probability(total_items, defective_items, sample_size, with_replacement=True)\n",
        "probability_without_replacement = calculate_probability(total_items, defective_items, sample_size, with_replacement=False)\n",
        "\n",
        "absolute_difference = abs(probability_with_replacement - probability_without_replacement)\n",
        "\n",
        "print(\"Probability with replacement:\", probability_with_replacement)\n",
        "print(\"Probability without replacement:\", probability_without_replacement)\n",
        "print(\"Absolute difference:\", absolute_difference)\n"
      ]
    }
  ]
}