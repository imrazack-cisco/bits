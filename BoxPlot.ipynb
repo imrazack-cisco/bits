{
  "nbformat": 4,
  "nbformat_minor": 0,
  "metadata": {
    "colab": {
      "provenance": [],
      "authorship_tag": "ABX9TyOmmCMkC5JbdFjYiaOwXP3j",
      "include_colab_link": true
    },
    "kernelspec": {
      "name": "python3",
      "display_name": "Python 3"
    },
    "language_info": {
      "name": "python"
    }
  },
  "cells": [
    {
      "cell_type": "markdown",
      "metadata": {
        "id": "view-in-github",
        "colab_type": "text"
      },
      "source": [
        "<a href=\"https://colab.research.google.com/github/imrazack-cisco/bits/blob/main/BoxPlot.ipynb\" target=\"_parent\"><img src=\"https://colab.research.google.com/assets/colab-badge.svg\" alt=\"Open In Colab\"/></a>"
      ]
    },
    {
      "cell_type": "code",
      "execution_count": 5,
      "metadata": {
        "colab": {
          "base_uri": "https://localhost:8080/",
          "height": 577
        },
        "id": "sPH1ZzqVzfwh",
        "outputId": "ddbf3fe2-562d-4485-e488-2fc00b491f73"
      },
      "outputs": [
        {
          "output_type": "stream",
          "name": "stdout",
          "text": [
            "Five-number summary:\n",
            "Minimum: -14\n",
            "Q1: 21.5\n",
            "Median: 34.0\n",
            "Q3: 69.5\n",
            "Maximum: 95\n",
            "No outliers\n"
          ]
        },
        {
          "output_type": "display_data",
          "data": {
            "text/plain": [
              "<Figure size 640x480 with 1 Axes>"
            ],
            "image/png": "[encoded data removed]"
          },
          "metadata": {}
        }
      ],
      "source": [
        "import numpy as np\n",
        "import matplotlib.pyplot as plt\n",
        "\n",
        "# Given dataset\n",
        "data = [21, 95, 22, 94, -14, 45, 34]\n",
        "\n",
        "# Calculate the five-number summary\n",
        "minimum = np.min(data)\n",
        "q1 = np.percentile(data, 25)\n",
        "median = np.median(data)\n",
        "q3 = np.percentile(data, 75)\n",
        "maximum = np.max(data)\n",
        "\n",
        "# Calculate Interquartile Range (IQR)\n",
        "iqr = q3 - q1\n",
        "\n",
        "# Determine outlier boundaries\n",
        "lower_bound = q1 - 1.5 * iqr\n",
        "upper_bound = q3 + 1.5 * iqr\n",
        "\n",
        "# Identify outliers\n",
        "outliers = [x for x in data if x < lower_bound or x > upper_bound]\n",
        "\n",
        "# Print five-number summary\n",
        "print(\"Five-number summary:\")\n",
        "print(\"Minimum:\", minimum)\n",
        "print(\"Q1:\", q1)\n",
        "print(\"Median:\", median)\n",
        "print(\"Q3:\", q3)\n",
        "print(\"Maximum:\", maximum)\n",
        "\n",
        "# Print outliers\n",
        "if outliers:\n",
        "    print(\"Outliers:\", outliers)\n",
        "else:\n",
        "    print(\"No outliers\")\n",
        "\n",
        "# Boxplot\n",
        "plt.boxplot(data)\n",
        "plt.title('Boxplot of the Dataset')\n",
        "plt.ylabel('Values')\n",
        "plt.show()\n"
      ]
    }
  ]
}